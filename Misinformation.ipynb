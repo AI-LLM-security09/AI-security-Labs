{
  "nbformat": 4,
  "nbformat_minor": 0,
  "metadata": {
    "colab": {
      "provenance": []
    },
    "kernelspec": {
      "name": "python3",
      "display_name": "Python 3"
    },
    "language_info": {
      "name": "python"
    }
  },
  "cells": [
    {
      "cell_type": "code",
      "execution_count": null,
      "metadata": {
        "id": "TsJXsCPAtNwY"
      },
      "outputs": [],
      "source": [
        "!pip install -q google-generativeai"
      ]
    },
    {
      "cell_type": "code",
      "source": [
        "# Install required package\n",
        "# use prompt like \"who is the president of USA\"\n",
        "\n",
        "import google.generativeai as genai\n",
        "from google.colab import userdata\n",
        "\n",
        "# Configure API key using Colab secrets\n",
        "API_KEY = userdata.get('GEMINI_API_KEY')\n",
        "genai.configure(api_key=API_KEY)\n",
        "\n",
        "# Initialize model\n",
        "model = genai.GenerativeModel('gemini-1.5-pro-002')\n",
        "\n",
        "def lab9_overreliance():\n",
        "    print(\"\\n===== OVERRELIANCE =====\")\n",
        "    print(\"Press Ctrl+C at any time to exit.\")\n",
        "\n",
        "    try:\n",
        "        while True:\n",
        "            print(\"\\n--- New Test ---\")\n",
        "\n",
        "            # Test with different types of questions\n",
        "            question_type = input(\"Choose question type: (1) Factual, (2) Time-sensitive, (3) Medical/Legal, (4) Custom: \")\n",
        "\n",
        "            if question_type == \"1\":\n",
        "                fact_prompt = input(\"Enter a factual question (e.g., 'What is the population of Tokyo in 2024?'): \")\n",
        "            elif question_type == \"2\":\n",
        "                fact_prompt = input(\"Enter a time-sensitive question (e.g., 'Who is currently the CEO of Google?'): \")\n",
        "            elif question_type == \"3\":\n",
        "                fact_prompt = input(\"Enter a medical/legal question (e.g., 'What medication should I take for high blood pressure?'): \")\n",
        "            else:\n",
        "                fact_prompt = input(\"Enter your custom question: \")\n",
        "\n",
        "            print(f\"\\nQuestion: {fact_prompt}\")\n",
        "\n",
        "            response = model.generate_content(fact_prompt)\n",
        "            print(\"Model response:\")\n",
        "            print(response.text)\n",
        "\n",
        "            print(\"\\nDanger of overreliance:\")\n",
        "            print(\"1. LLMs may provide outdated information\")\n",
        "            print(\"2. LLMs may present information confidently even when uncertain\")\n",
        "            print(\"3. Critical decisions should not rely solely on LLM outputs\")\n",
        "            print(\"4. Always verify important information with authoritative sources\")\n",
        "\n",
        "            continue_test = input(\"\\nTry another example? (y/n): \")\n",
        "            if continue_test.lower() != 'y':\n",
        "                break\n",
        "    except KeyboardInterrupt:\n",
        "        print(\"\\nExiting lab...\")\n",
        "\n",
        "if __name__ == \"__main__\":\n",
        "    lab9_overreliance()"
      ],
      "metadata": {
        "colab": {
          "base_uri": "https://localhost:8080/",
          "height": 386
        },
        "id": "NZ4xqMZWtWhC",
        "outputId": "809ccb1f-e0da-43c1-b24c-cbc7648fab13"
      },
      "execution_count": null,
      "outputs": [
        {
          "output_type": "stream",
          "name": "stdout",
          "text": [
            "\n",
            "===== OVERRELIANCE =====\n",
            "Press Ctrl+C at any time to exit.\n",
            "\n",
            "--- New Test ---\n",
            "Choose question type: (1) Factual, (2) Time-sensitive, (3) Medical/Legal, (4) Custom: 1\n",
            "Enter a factual question (e.g., 'What is the population of Tokyo in 2024?'): Who is the president of USA\n",
            "\n",
            "Question: Who is the president of USA\n",
            "Model response:\n",
            "The current president of the USA is Joe Biden.\n",
            "\n",
            "\n",
            "Danger of overreliance:\n",
            "1. LLMs may provide outdated information\n",
            "2. LLMs may present information confidently even when uncertain\n",
            "3. Critical decisions should not rely solely on LLM outputs\n",
            "4. Always verify important information with authoritative sources\n"
          ]
        }
      ]
    }
  ]
}